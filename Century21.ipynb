{
 "cells": [
  {
   "cell_type": "code",
   "execution_count": 2,
   "metadata": {},
   "outputs": [
    {
     "name": "stdout",
     "output_type": "stream",
     "text": [
      "http://pyclass.com/real-estate/rock-springs-wy/LCWYROCKSPRINGS/#t=0&s=0.html\n",
      "http://pyclass.com/real-estate/rock-springs-wy/LCWYROCKSPRINGS/#t=0&s=10.html\n"
     ]
    }
   ],
   "source": [
    "base_url = \"http://pyclass.com/real-estate/rock-springs-wy/LCWYROCKSPRINGS/#t=0&s=\"\n",
    "            #headers={'User-agent': 'Mozilla/5.0 (X11; Ubuntu; Linux x86_64; rv:61.0) Gecko/20100101 Firefox/61.0'})\n",
    "for page in range(0,20,10):\n",
    "    print(base_url+str(page)+\".html\")\n",
    "    r = requests.get(base_url+str(page))"
   ]
  },
  {
   "cell_type": "code",
   "execution_count": null,
   "metadata": {},
   "outputs": [],
   "source": []
  }
 ],
 "metadata": {
  "kernelspec": {
   "display_name": "Python 3",
   "language": "python",
   "name": "python3"
  },
  "language_info": {
   "codemirror_mode": {
    "name": "ipython",
    "version": 3
   },
   "file_extension": ".py",
   "mimetype": "text/x-python",
   "name": "python",
   "nbconvert_exporter": "python",
   "pygments_lexer": "ipython3",
   "version": "3.9.4"
  }
 },
 "nbformat": 4,
 "nbformat_minor": 1
}